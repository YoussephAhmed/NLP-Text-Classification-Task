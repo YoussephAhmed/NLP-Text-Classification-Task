{
 "cells": [
  {
   "cell_type": "markdown",
   "metadata": {},
   "source": [
    "<h1 align=\"center\">\n",
    "(Multi-text Text Classification Task)\n",
    "</h1>\n",
    "\n",
    "\n",
    "\n",
    "<h3>\n",
    "By: Youssef Ahmed Hassan\n",
    "</h3>"
   ]
  },
  {
   "cell_type": "markdown",
   "metadata": {},
   "source": [
    "## Imports"
   ]
  },
  {
   "cell_type": "code",
   "execution_count": 42,
   "metadata": {},
   "outputs": [],
   "source": [
    "from flask import Flask, jsonify, request, render_template, redirect, jsonify\n",
    "from flask_cors import CORS, cross_origin\n",
    "from sklearn.model_selection import KFold\n",
    "from sklearn import naive_bayes, svm\n",
    "from sklearn.metrics import accuracy_score\n",
    "from sklearn.model_selection import train_test_split\n",
    "from sklearn.preprocessing import LabelEncoder\n",
    "from sklearn.feature_extraction.text import TfidfVectorizer\n",
    "from sklearn.feature_extraction.text import CountVectorizer\n",
    "import numpy as np\n",
    "import pandas as pd\n",
    "import re"
   ]
  },
  {
   "cell_type": "code",
   "execution_count": 2,
   "metadata": {},
   "outputs": [],
   "source": [
    "np.random.seed(1) #for same output "
   ]
  },
  {
   "cell_type": "markdown",
   "metadata": {},
   "source": [
    "## Read, Shuffle and Visualize some of the Training data"
   ]
  },
  {
   "cell_type": "code",
   "execution_count": 3,
   "metadata": {},
   "outputs": [
    {
     "data": {
      "text/html": [
       "<div>\n",
       "<style scoped>\n",
       "    .dataframe tbody tr th:only-of-type {\n",
       "        vertical-align: middle;\n",
       "    }\n",
       "\n",
       "    .dataframe tbody tr th {\n",
       "        vertical-align: top;\n",
       "    }\n",
       "\n",
       "    .dataframe thead th {\n",
       "        text-align: right;\n",
       "    }\n",
       "</style>\n",
       "<table border=\"1\" class=\"dataframe\">\n",
       "  <thead>\n",
       "    <tr style=\"text-align: right;\">\n",
       "      <th></th>\n",
       "      <th>job title</th>\n",
       "      <th>industry</th>\n",
       "    </tr>\n",
       "  </thead>\n",
       "  <tbody>\n",
       "    <tr>\n",
       "      <th>0</th>\n",
       "      <td>it support</td>\n",
       "      <td>IT</td>\n",
       "    </tr>\n",
       "    <tr>\n",
       "      <th>1</th>\n",
       "      <td>junior .net developer</td>\n",
       "      <td>IT</td>\n",
       "    </tr>\n",
       "    <tr>\n",
       "      <th>2</th>\n",
       "      <td>graduate software engineer</td>\n",
       "      <td>IT</td>\n",
       "    </tr>\n",
       "    <tr>\n",
       "      <th>3</th>\n",
       "      <td>sports coach in coventry</td>\n",
       "      <td>Education</td>\n",
       "    </tr>\n",
       "    <tr>\n",
       "      <th>4</th>\n",
       "      <td>1:1 sen ta / asd ta / lsa needed in ealing - a...</td>\n",
       "      <td>Education</td>\n",
       "    </tr>\n",
       "  </tbody>\n",
       "</table>\n",
       "</div>"
      ],
      "text/plain": [
       "                                           job title   industry\n",
       "0                                         it support         IT\n",
       "1                              junior .net developer         IT\n",
       "2                         graduate software engineer         IT\n",
       "3                           sports coach in coventry  Education\n",
       "4  1:1 sen ta / asd ta / lsa needed in ealing - a...  Education"
      ]
     },
     "execution_count": 3,
     "metadata": {},
     "output_type": "execute_result"
    }
   ],
   "source": [
    "_data = pd.read_csv('Job titles and industries.csv')\n",
    "_data= _data.sample(frac=1).reset_index(drop=True) #Shuffle\n",
    "_data.head()"
   ]
  },
  {
   "cell_type": "markdown",
   "metadata": {},
   "source": [
    "## Pre-Processing of the Data\n",
    "### Tokenization and Text Normalization"
   ]
  },
  {
   "cell_type": "code",
   "execution_count": 4,
   "metadata": {},
   "outputs": [],
   "source": [
    "# Tokenization function\n",
    "\n",
    "# we should remove any salary \"number\" value since it does not have a majority for certain class\n",
    "# we should replace - and , with white space \n",
    "# we should make sure that all the words are smalll letteres \n",
    "# we don't need to reomve all special symbols like # because it may be related to the class like c# -> IT\n",
    "# we will use regular expressions \n",
    "\n",
    "def pre_processing(text):\n",
    "    new_text = re.sub(r'[?|$|!|&|*|.|£|(|)]',r'',text) #  replace ? ! £ & * $ ()  . with nothing\n",
    "    new_text = re.sub(r'[,|/|\\|-]',r' ',new_text) # replace , / \\ - with space\n",
    "    new_text = re.sub(r'[0-9]',r'',new_text) # remove numbers\n",
    "    new_text = new_text.lower() # small letters only\n",
    "    \n",
    "    return new_text"
   ]
  },
  {
   "cell_type": "code",
   "execution_count": 5,
   "metadata": {},
   "outputs": [],
   "source": [
    "\n",
    "for i in range (len(_data['job title'])):\n",
    "        \n",
    "    _data['job title'][i] = pre_processing(_data['job title'][i])\n",
    "    "
   ]
  },
  {
   "cell_type": "markdown",
   "metadata": {},
   "source": [
    "## Split Data into Train, and Validate (Test) Data"
   ]
  },
  {
   "cell_type": "code",
   "execution_count": 6,
   "metadata": {},
   "outputs": [],
   "source": [
    "# K-fold cross validation\n",
    "# we don't need K-fold here since the size of the data we have is not to big\n",
    "\n",
    "'''\n",
    "X = _data['job title']\n",
    "Y = _data['industry']\n",
    "kf = KFold(n_splits=10) # Define the split into 10 folds \n",
    "no_of_folds = kf.get_n_splits()\n",
    "for train_index, test_index in kf.split(_data):\n",
    "    X_train, X_test = X[train_index], X[test_index]\n",
    "    y_train, y_test = Y[train_index], Y[test_index]\n",
    "    \n",
    "print(no_of_folds)\n",
    "\n",
    "'''\n",
    "\n",
    "# normal split ration .2 to validate then we will retrain with the full data\n",
    "Train_X, Test_X, Train_y, Test_y = train_test_split(_data['job title'],_data['industry'],test_size=0.2,shuffle=False)\n"
   ]
  },
  {
   "cell_type": "code",
   "execution_count": 7,
   "metadata": {},
   "outputs": [],
   "source": [
    "# seperate all the text(input) from the classes(output) \n",
    "it_df = Train_X[Train_y == \"IT\"]\n",
    "marketing_df = Train_X[Train_y  == \"Marketing\"]\n",
    "education_df = Train_X[Train_y  == \"Education\"]\n",
    "accountancy_df = Train_X[Train_y  == \"Accountancy\"]"
   ]
  },
  {
   "cell_type": "code",
   "execution_count": 8,
   "metadata": {},
   "outputs": [
    {
     "data": {
      "text/plain": [
       "0                                           it support\n",
       "1                                 junior net developer\n",
       "2                           graduate software engineer\n",
       "6    full stack php developer   immense variety of ...\n",
       "7                                           head of it\n",
       "Name: job title, dtype: object"
      ]
     },
     "execution_count": 8,
     "metadata": {},
     "output_type": "execute_result"
    }
   ],
   "source": [
    "it_df.head()"
   ]
  },
  {
   "cell_type": "markdown",
   "metadata": {},
   "source": [
    "## The following Cells is just for more insights about the data.."
   ]
  },
  {
   "cell_type": "code",
   "execution_count": 9,
   "metadata": {},
   "outputs": [],
   "source": [
    "# this cell for all the vocab \n",
    "all_vocab = set()\n",
    "\n",
    "for line in Train_X:\n",
    "    \n",
    "    text_in_line = line.split() # split the words by white spaces\n",
    "    \n",
    "    for word in text_in_line:\n",
    "        all_vocab.add(word)\n",
    "        "
   ]
  },
  {
   "cell_type": "code",
   "execution_count": 10,
   "metadata": {},
   "outputs": [
    {
     "name": "stdout",
     "output_type": "stream",
     "text": [
      "{'psychology', 'harlow', 'erp', 'immense', 'global', 'transition', 'aws', 'alexandria', 'nasr', 'help', 'coupar', 'ssrs', 'medical', 'residential', 'qube', 'chain', 'autistic', 'invoicing', 'digital', 'adwords', 'unique', 'moga', 'jnr', 'snr', 'all', 'cardiff', 'c#', 'implementer', 'communcations', 'build', 'internship', 'games', 'trainer', 'blog', 'azure', 'script', 'city', 'amazon', 'wm', 'northfield', 'care', 'manual', 'kharar', 'staffordshire', 'ilford', 'into', 'materials', 'api', 'edge', 'psychologist', 'hove', 'commodities', 'producer', 'bonus', 'robotics', 'newcastle', 'cissp', 'remote', 'ranorex', 'migration', 'franchise', 'lab', 'tdd', 'aspiring', 'ebd', 'efl', 'electrical', 'motorsport', 'italian', 'vuejs', 'entry', 'poole', 'coordination', 'ecommerce', 'platforms', 'less', 'jc', 'midday', 'intelligence', 'vip', 'de', 'arabia', 'sw', 'geography', 'ci', 'immigration', 'vollzeit', 'middleweight', 'juniper', 'pen', 'conversion', 'evaluation', 'first', 'onboarding', 'hours', 'abu', 'consultant:', 'semi', 'analysts', 'developers', 'monitoring', 'processing', 'agricultural', 'wonderful', 'pattern', 'editing', 'redditch', 'co', 'classroom', 'politics', 'fundraising', 'ivr', 'thinker', 'music', 'laptops', 'ui', 'msp', 'competative', 'gcp', 'owner', 'wallingford', 'ordinator', 'certs', 'day', 'telephony', 'kenilworth', 'apprenticeship:', 'cro', 'keeper', 'stakeholder', 'receptionist', 'swift', 'phone', 'malware', 'infrastructure', 'vacancies', 'character', 'suppport', 'coventry', 'product', 'competitive', 'brand', 'cyber', 'orchestral', 'night', 'branding', 'china', 'fujitsu', 'hiring', 'assistants', 'british', 'native', 'aspnet', '–adults', 'x', 'app', 'advertising', 'ndc', 'ellesmere', 'strategic', 'freelance', 'embedded', 'clearance', 'derbyshire', 'statistics', 'chef', 'ote', 'islington', 'skills', 'sandness', 'open', 'dale', 'telco', 'ta', 'longterm', 'brighton', 'reisebüro', 'surrey', 'counselor', 'presales', 'foundation', 'ftse', 'merchandiser', 'aat', 'can', 'recruitment', 'romsey', 'egypt', 'm', 'iba', 'researcher', 'tesol', 'german', 'algorithm', 'exectuive', 'basel', 'development', 'kidlington', 'devops', 'response', 'rapidly', 'reconciliation', 'barking', 'estate', 'basildon', 'cayman', 'unit', 'investment', '\"agency', 'fulfilment', 'ms', 'secondary', 'myp', 'from', 'hillindon', 'ads', 'learners', 'arabic', 'dublin', 'solihull', 'line', 'content', 'numeracy', 'project', 'scotland', 'portals', 'networking', 'fast', 're', 'magento', 'in', 'september', 'officer', 'ax', 'creative', ':teaching', 'mis', 'sustainable', 'qa', 'health', 'astronomy', 'print', 'mortgage', 'graduate', 'company', 'referral', 'tesl', 'firm', 'generalist', 'track', 'gold', 'posts', 'sept', 'honours', 'caterham', 'quraan', 'wednesbury', 'asp', 'kafka', 'storyteller', 'comms', 'acute', 'collector', 'alone', 'hertfordshire', 'checkpoint', 'scheme', 'statistical', 'environments', 'systems', 'weeks', 'award', 'you', 'secretary', 'riyadh', 'london', 'sharepoint', 'assistant', 'medico', 'excellent', 'vision', 'uncapped', 'martech', 'webapi', 'axon', 'life', 'times', 'male', 'hire', 'chelmsford', 'stratford', 'juniors', 'speech', 'account', 'southend', 'executives', 'rotation', 'analyst', 'offenburg', 'strong', 'implementation', '\"', 'epm', 'lewisham', 'sydney', 'square', 'fixed', 'biology', 'leyland', 'blogger', 'ib', 'academic', 'undergraduate', 'woodwork', 'git', 'wakefield', 'group', 'mentors', 'igcse', 'teachers:', 'exeuctive', 'i', 'powerbi', 'southwark', 'year', 'backend', 'brands', 'mid', 'hands', 'big', 'rollout', 'lifestyle', 'centre', 'ba', 'w', 'fpga', 'croydon', 'youth', 'kol', 'operations', 'stockbrokers', 'managers', 'no', 'fossoway', 'capacity', 'alcohol', 'watch', 'chief', 'insight', 'datatcentre', 'funding', 'css', 'application:', 'career', 'mortgages', 'gatwick', 'real', 'sdlc', 'chf', 'chichester', 'holidays', 'mi', 'ebay', \"'outstanding'\", 'mandarin', 'stand', 'tutor', 'communications', 'would', 'streaming', 'automation', 'suit', 'segment', 'interface', 'highbury', 'teaching', 'leads', 'branch', 'aop', 'retailer', 'occupational', 'programmatic', 'pdp', 'execution', 'wembley', 'handler', 'unified', 'proposals', 'sme', 'cism', 'creator', 'avaya', 'finland', 'd', 'finance', 'aberfoyle', 'generation', 'publishing', 'collection', 'cable', 'artwork', 'windows', 'unqualified', 'rest', 'energy', 'outstanding', 'oracle', 'networks', 'exhibition', 'grad', 'français', 'backoffice', 'partnerships', 'treasury', 'strategy', 'sussex', 'floor', 'internal', 'warehousing', 'eh', 'glasgow', 'remotely', 'milton', 'angular', 'or', 'compliance', 'münchen', 'corporate', 'ppa', \"'s\", 'trading', 'teamleader', 'k', 'credit', 'dynamics', 'ir', 'outs', 'comp', 'edinburgh', 'microsoft', 'salam', 'maternity', 'printer', 'darmstadt', 'north', 'sem', \"nqt's\", 'dulwich', 'book', 'reactjs', 'established', 'insights', 'referencing', 'childcare', 'leadership', 'hounslow', 'wireless', 'v', 'leicestershire', 'single', 'ebs', 'integrated', 'machine', 'silverstripe', 'salary', 'drum', 'low', 'xml', 'beers', 'multinational', 'payment', 'manchester', 'watches', 'pmo', 'daily', 'restaurants', 'design', 'consultants', 'restructuring', 'liverpool', 'order', 'childhood', 'station', 'manufacturer', 'turkish', 'term', 'educator', 'graphic', 'australian', 'resistant', 'sc', 'controls', 'platform', 'eco', 'warwickshire', 'person', \"supervisor's\", 'teachi', 'buying', 'coordinator', 'citrix', 'we’re', 'planning', 'clinical', 'fitness', 'fmcg', 'culture', 'kantar', 'educational', 'facilitator', 'cheltenham', 'db', 'technician', 'duty', 'biller', 'hill', 'officer:', 'analyst:', 't', 'call', 'go', 'sponsored', 'subjects:', 'bsl', 'reporting', 'activities', 'direct', 'school', 'partner', 'large', 'hamilton', 'cfo', 'jenkins', 'services', 'integrations', 'skilled', 'colchester', 'europe', 'dance', 'yorkshire', 'xwgc', 'symfony', 'programming', 'winning', 'tlr', 'paye', 'buyer', 'production', 'western', 'beauty', 'vp', 'hibernate', 'fullstack', 'home', 'copywriter', 'worker', 'interactive', 'autism', 'job', 'classics', 'county', 'finalizer', 'artificial', 'agent', 'payable', 'assessments', 'website', 'fashion', 'togaf', 'house', 'applications', 'agresso', 'adviser', \"'e'\", 'informatica', 'audience', 'wigan:', 'packager', 'experiential', 'cheshire', 'motion', 'chemsitry', 'allocator', 'prep', 'chemistry', 'command', 'machining', 'relationship', 'lambeth', 'integration', 'gain', 'pricing', 'packaging', 'kentico', 'faith', 'charge', 'startup', 'reception', 'scripting', 'marcomms', 'outreach', 'fluent', 'process', 'get', 'sales', 'background', 'therapy', 'cirencester', 'pay', 'petersfield', 'therapist', 'westgate', 'actuarial', 'pa', 'umbraco', 'dhabi', 'equity', 'bat', 'search', 'for', 'pi', 'months', 'principal', 'time', 'citizen', 'dba', 'hisar', 'wandsworth', 'kuwait', 'writing', 'gt', 'adobe', 'club', 'kit', 'technologies', 'payments', 'hvac', 'hall', 'uk', 'train', 'coordinater', 'facebook', 'green', 'cleared', 'over', 'biddable', '+', 'top', 'developer', 'fresh', 'ealing', 'provided', 'stage', 'wimbledon', 'assistant:', 'impact', 'hedge', 'hubspot', 'cisco', 'al', 'mfl', 'java', 'animator', 'physics', 'penetration', 'pupil', 'mayfair', 'helwan', 'photography', 'engage', 'cache', 'wifi', 'ordinators', 'section', 'redhat', 'recovery', 'vbnet', 'modelling', 'chigwell', 'as', 'lowestoft', 'excellence', 'bristol', 'uae', 'airline', 'conversation', 'cash', 'relocation', 'sports', 'it', 'ks', 'html', 'esher', 'groupwork', 'calling', 'nutrition', 'full', 'operator', 'kotlin', 'levels', 'ups', 'hod', 'looking', 'birmingham', 'site', 'shifts', 'progression', 'ccnp', 'oxford', 'exp', 'node', 'lead', 'senior', 'oxfordshire', 'hackney', 'dp', 'careers', 'transfer', 'commission', 'ksa', 'asd', 'apprentice', 'doe', 'neg', 'core', 'benefits', 'ux', 'directory', 'norwich', 'is', 'pioneer', 'npd', 'brent', 'the', 'resources', 'delay', 'royalties', 'weight', 'testing', 'sub', 'javascript', 'kensington', 'an', 'cobham', 'moderator', 'property', 'higher', 'wimborne', 'programmer', 'needed', 'division', 'nd', 'fte', 'darley', 'building', 'front', 'client', 'designer', 'port', 'editorial', 'arab', 'exciting', 'central', 'egy', 'tunbridge', 'conference', 'gateshead', 'maths', 'twickenham', 'solution', 'opportunities', 'mailchimp', 'gui', 'elegant', 'rugeley', 'now', 'faculty', 'waltham', 'mission', 'translation', 'support', 'forecasting', 'inside', 'maadi', 'tooling', 'scrum', 'fund', 'staff', 'easter', 'docucare', 'ict', 'mobility', 'pr', 'pd', 'image', 'years', 'invigilators', 'power', 'supply', 'advisor', 'salesforce', 'managed', 'auditor', 'flexi', 'studies', 'category', 'frodsham', 'gloucestershire', 'specialist', 'we', 'newly', 'dept', 'chat', 'enterprise', 'rochdale', 'receivable', 'supervisor', 'thriving', 'qualified', 'must', 'crm', 'multichannel', 'hw', 'general', 'be', 'edia', 'immediately', 'korean', 'history', 'speaking', 'deaf', 'pre', 'optimisation', 'organisation', 'alternating', 'bb', 'catering', 'android', 'jewellery', 'prudence', 'expanding', 'vlogger', 'identity', 'copy', 'personal', 'above', 'per', 'portsmouth', 'aberdeen', 'borough', 'basic', 'assurance', 'eal', 'events', 'immediate', 'dudley', 'servers', 'hillingdon', 'soc', 'behavioural', 'bournemouth', 'update', 'commisions', 'up', 'islamic', 'only', 'visa', 'part', 'administrator', 'ip', 'journalist', 'paid', 'notts', 'installation', 'anglictinou', 'smb', 'great', 'kent', 'math', 'payroller', 'exec', 'operational', 'biztalk', 'warehouse', 'therapies', 'banking', 'throughout', 'exhibit', 'floorwalker', 'poland', 'child', 'media', 'assistnat', 'demand', 'stockport', 'self', 'goldalming', \"'good'\", 'mechanical', 'agency', 'craft', 'early', 'contractor', 'horsforth', 'security', 'fire', 'ofsted', 'bahrain', 'peep', 'control', 'wordpress', 'social', 'art', 'asahi', 'release', 'lamp', 'kids', 'leatherhead', 'drama', 'literacy', 'telemarketer', 'c', 'iot', 'vat', 'mobile', 'president', 'python', 'connectivity', 'canteen', 'additional', 'bulgarian', 'region', 'workplace', 'usability', 'adminstrator', 'esl', 'unix', 'test', 'bramfeld', 'eligible', 'relations', 'vendor', 'workers', 'agents', 'dubai', 'reliability', 'portuguese', 'kg', 'accounts', 'ophthalmology', 'purchase', 'sci', 'invigilator', 'datacentre', 'hamburg', 'camden', 'simulation', 'servicenow', 'education', 'elearning', 'swinton', 'turkey', 'haslemere', 'manufacturing', 'onsite', 'baxenden', 'eu', 'coach', 'teilzeit', 'telesales', 'starting', 'architect', 'scientific', 'this', 'irmonerstraße', 'engineer', 'portfolio', 'tourism', 'french', 'wintel', 'speaker', 'schools', 'qts', 'braehead', 'to', 'enhancing', 'telemarketing', 'php', 'hardware', 'exhibitions', 'european', 'serbian', 'runcorn', 'department', 'covent', 'back', 'desktop', 'enfield', 'stem', 'dynatrace', 'affairs', 'fpa', 'sr', 'instructor', 'clerk', 'products', 'bleeding', 'screening', 'tefl', 'cd', 'wanted', 'woking', 'brinny', 'welcome', 'active', 'anytime', 'asset', 'admin', 'eyfs', 'room', 'research', 'incident', 'architecture', 'vb', 'enthusiastic', 'academy', 'northern', 'p', 'channels', 'oo', 'ios', 'external', 'wales', 'internet', 'premium', 'installations', 'analytics', 'amsterdam', 'have', '—', 'uxbridge', 'pe', 'partnership', 'berwyn', 'program', 'software', 'organiser', 'a’level', 'excel', 'heart', 'bc', 'pl', 'long', 'more', 'become', 'deputy', 'tas', 'hammersmith', 'speakers', 'live', 'days', 'insurance', 'critical', 'pharmaceutical', 'role', 'acca', 'marketer', 'newbury', 'haywards', 'ap', 'server', 'unity', 'apps', 'lane', 'fif', 'newham', 'hook', 'summer', 'cybersecurity', 'plus', 'specaial', 'hospitality', 'removal', 'after', 'soccer', 'microstrategy', 'es', 'configuration', 'statistician', 'germany', 'newport', 'workington', 'nodejs', 'dwh', 'financial', 'temp', 'galashiels', 'teacher', 'safeguarding', 'on', 'interviews', 'specification', 'leader', 'special', 'deployment', 'romanian', 'promotions', 'crewe', 'flexible', 'computing', 'qatar', 'collaborative', 'source', 'witney', 'humanities', 'roles', 'tech', 'urgent', 'frontend', 'strategist', 'leaver', 'gradute', 'play', 'proposition', 'agile', 'viernheim', 'functional', 'redbridge', 'one', 'package', 'catholic', 'chester', 'scarborough', 'professeur', 'spanish', 'gift', 'vietnam', 'hpc', 'warrington', 'field', 'pmld', 'consultant', 'fleet', 'multiple', 'etl', 'float', 'innovative', 'f', 'genesys', 'friendly', 'bank', 'outdoor', 'buisness', 'aca', 'processor', 'consulting', 'igaming', 'mba', 'barnet', 'regulatory', 'video', 'ucd', 'teach', 'solutions', 'data', 'innovator', 'slough', 'buildings', 'innovation', 'adults', 'skillset', 'communication', 'clinicals', \"joseph's\", 'representative', 'criminology', 'community', 'bens', 'director', 'harrogate', 'gaming', 'girls', 'intervention', 'governance', 'mdm', 'key', 'university', 'study', 'porta', 'success', 'experience', 'kinross', 'august', 'lovell', 'qlik', 'selenium', 'tax', 'homeroom', 'admissions', 'assitant', 'technology', 'blockchain', 'positions', 'like', 'publications', 'science', 'youtube', 'transactional', 'luxury', 'available', 'area', 'behaviour', 'gis', 'free', 'saas', 'stack', 'duns', 'food', 'subject', 'gartner', 'euc', 'capital', 'augsburg', 'mysql', 'lecturer', 'new', 'distributor', 'mongo', 'device', 'user', 'automotive', 'exams', 'upper', 'contract', 'rails', 'planner', 'display', 'intermediary', 'legal', 'professional', 'web', 'chandigarh', 'hearing', 'vice', 'system', \"anee's\", 'desktops', 'helsinki', 'service', 'otc', 'targeting', 'dramatics', 'kindergarten', 'clacton', 'paris', 'loyalty', 'hosting', 'dagenham', 'net', 'healthtech', 'essex', 'analysis', 'typescript', 'computer', 'trainers', 'abingdon', 'greenfield', 'modeller', 'operation', 'laravel', 'document', 'stirling', 'seeking', 'australia', 'start', 'complex', 'sticker', 'restaurant', 'mathematics', 'expatriate', 'maternelle', 'database', 'salford', 'apprenticeship', 'exam', 'ad', 'boot', 'bi', 'trader', 'training', 'growth', 'producers', 'channel', 'coburg', 'heath', 'officers', 'contact', 'microservices', 'scientist', 'accommodation', 'brno', 'supervisor:', 'economy', 'c++', 'preschool', 'pupils', 'billing', 'ece', 'invest', 'fieldwork', 'sen', 'income', 'engineering', 'ferndown', 'cima', 'leeds:', 'artist', 'malta', 'shift', 'administrative', 'ftc', \"dba's\", 'analytical', 'bolton', 'kubernetes', 'amazing', 'risk', 'urgently', 'temporary', 'financialforce', 'graduates', 'interest', 'permanent', 'photographer', 'second', 'foreign', 'team', 'female', 'wedding', 'rates', 'netsuite', 'july', 'touring', 'sacred', 'boys', 'consultancy', 'woodwind', 'cairo', 'rpa', 'firmware', 'executive', 'wearables', 'chelsea', 'reigate', 'arcgis', 'felixstowe', 'gn', 'stats', 'growing', 'nursery', 'projects', 'course', 'librarian', 'nqt', 'hr', 'sheffield', 'lower', 'primaire', 'law', 'pubic', 'editor', 'mental', 'danish', 'retail', 'associate', 'ceo', 'personnel', 'management', 'headteacher', 'access', 'wrexham', 'spectroscopy', 'kassel', 'revenue', 'seo', 'scale', 'governmental', 'audit', 'deep', 'soa', 'alperton', 'technical', 'market', 'gants', 'travel', 'bd', 'rc', 'elementary', 'ledger', 'powershell', 'sccm', 'welding', 'protection', 'york', 'sunninghill', 'good', 'multi', 'level', 'technologist', 'tweedbank', 'sector', 'ccna', 'studio', 'paddy', 'physical', 'js', 'coordnator', 'behavioral', 'ppc', 'mat', 'cisa', 'phase', 'uipath', 'engineers', 'ascot', 'specialista', 'opportunity', 'young', 'kingston', 'fly', 'contracts', 'fix', 'camberley', 'quranic', 'oceana', 'at', 'view', 'reiseverkäufer', 'card', 'leeds', 'faversham', 'isp', 'im', 'high', 'ec', 'bms', 'launch', 'chromeos', 'halesowen', 'west', 'spirits', 'information', 'sponsorship', 'center', 'pm', 'maintenance', 'netbackup', 'post', 'northampton', 'cryptocurrency', 'mvc', 'pos', 'commerce', 'treasurer', 'clearanc', 'richmond', 'ielts', 'lsa', 'english', 'fabrication', 'bid', 'th', 'tester', 'fibre', 'mfta', 'helpdesk', 'affiliate', 'apac', '–young', 'accounting', 'scienceteaching', 'asap', 'membership', 'engagement', 'saudi', 'administration', 'influencer', 'freight', 'iac', 'cover', 'greenwich', \"lady's\", 'peterborough', 'sportsbook', 'chinese', 'hybris', 'tutors', 'transformation', 'suhl', 'mathematical', 'position', 'numerous', 'geospatial', 'regional', 'international', 'docker', 'relocate', 'tier', 'supervisors:', 'inner', 'frameworki', 'chesterfield', 'south', 'variety', 'football', 'jewish', 'junior', 'smart', 's', 'msi', ':', 'role:', 'languages', 'world', 'ireland', 'payroll', 'requirement', 'accountant', 'purchasing', 'percussion', 'e', 'independent', 'wpf', 'sims', 'supplier', 'vcp', 'ops', 'secondment', 'clients', 'outsourcing', 'known', 'postgresql', 'october', 'greater', 'nqts', 'c#net', 'trade', 'hadoop', 'best', 'sport', 'and', 'based', 'creativity', 'experienced', 'network', 'grade', 'aem', 'vue', 'filemaker', 'options', 'ch', 'controller', 'perm', 'rugby', 'lawyer', 'bookkeeper', 'online', 'wanting', 'cto', 'advisory', 'investigation', 'netherlands', 'polish:', 'nurse', 'nottingham', 'hacking', 'insolvency', 'admission', 'april', 'angus', 'practitioner', 'coaches', 'claims', 'indoor', 'private', 'supervisors', 'k+', 'scala', 'proofreader', 'reading', 'leavel', 'guru', 'ideal', 'oop', 'working', 'latency', 'christchurch', 'linux', 'analyst:multi', 'google', 'privileged', 'didcot', 'office', 'with', 'base', 'boarding', 'mongodb', 'within', 'class', 'translator', 'grads', 'ruby', 'acquisition', 'trainee', 'asda', 'event', 'tv', 'mentor', 'vacancy', 'o', 'scorecard', 'semh', 'berkshire', 'react', 'practioner', 'merchandising', 'precision', 'borestone', 'fraud', 'four', 'telecoms', 'side\"', 'author', 'availability', 'learning', 'middleware', 'contractors', 'head', 'required', 'vmware', 'marketing', 'dv', 'practice', 'desginer', 'are', 'hour', 'month', 'schwäbisch', 'cambridge', 'expert', 'civils', 'operative', 'walton', 'india', 'islands', 'placement', 'winchester', 'pkc', 'examination', 'press', 'teachers', 'midlands', 'customer', 'ibm', 'preston', 'distributed', 'belfast', 'week', 'ain', 'bursary', 'proptech', 'programme', 'earn', 'homeworking', 'mainframe', 'hlta', 'well', 'senco', 'nr', 'designing', 'experimentation', 'tools', 'entertainment', 'work', 'campaign', 'ethical', 'garden', 'quant', 'learn', 'share', 'needs', 'shams', 'procurement', 'thames', 'awards', 'sole', 'of', 'ayr', 'student', 'a', 'alliances', 'dev', 'healthcare', 'mps', 'leading', 'camp', 'thurrock', 'campaigns', 'send', 'rate', 'application', 'doncaster', 'hmp', 'dt', 'perth', 'manc', 'transaction', 'public', 'hyderabad', 'flex', 'fortinet', 'master', 'sql', 'quality', 'primary', 'ems', 'gillingham', 'scotstoun', 'dutch', 'scholar', 'sessional', 'toots', 'marketo', 'our', 'jmeter', 'broadband', 'logistics', 'interim', 'cypress', 'accountancy', 'initially', 'human', 'amp', 'l', 'era', 'insurtech', 'country', 'superb', 'supportive', 'langlee', 'desk', 'sence', 'delivery', 'business', 'commercial', 'electronic', 'achieving', 'non', 'conferences', 'plymouth', 'end', 'performance', 'improvement', 'solothurn', 'retention', 'subjects', 'russia', 'cognitive', 'maidenhead', 'wells', 'multilingual', 'spring', 'analystsales', 'basingstoke', 'game', 'properties', 'fintech', 'haringey', '[teaching]', 'east', 'moscow', 'economics', 'manager', 'drupal', 'email', 'certified', 'twin', 'certification', 'serve', 'kpi', 'discipline', 'emea', 'electronics', 'change', 'keynes', 'language', 'forest', 'sap', 'rd', 'westfalica', 'southampton', 'cloud', 'puppet', 'cambridgeshire', 'festival', 'meter', 'intern', 'polyglot', 'join', 'raspberry', 'bradford', 'writer', 'jobs', 'casino', 'st'}\n",
      "1815\n"
     ]
    }
   ],
   "source": [
    "print(all_vocab)\n",
    "print(len(all_vocab))"
   ]
  },
  {
   "cell_type": "code",
   "execution_count": 11,
   "metadata": {},
   "outputs": [],
   "source": [
    "# this cell for IT vocab \n",
    "it_vocab = set()\n",
    "\n",
    "for line in it_df:\n",
    "    text_in_line = line.split() # split the words by white spaces\n",
    "    \n",
    "    for word in text_in_line:\n",
    "        it_vocab.add(word)"
   ]
  },
  {
   "cell_type": "code",
   "execution_count": 12,
   "metadata": {},
   "outputs": [
    {
     "name": "stdout",
     "output_type": "stream",
     "text": [
      "{'connectivity', 'erp', 'immense', 'pmo', 'global', 'transition', 'design', 'consultants', 'canteen', 'order', 'workplace', 'aws', 'danish', 'retail', 'associate', 'turkish', 'usability', 'term', 'help', 'management', 'unix', 'sc', 'test', 'ssrs', 'controls', 'eligible', 'access', 'platform', 'medical', 'spectroscopy', 'vendor', 'qube', 'revenue', 'seo', 'reliability', 'digital', 'unique', 'jnr', 'snr', 'all', 'soa', 'cardiff', 'coordinator', 'citrix', 'sci', 'c#', 'technical', 'build', 'market', 'internship', 'games', 'travel', 'datacentre', 'trainer', 'azure', 'planning', 'clinical', 'powershell', 'script', 'city', 'sccm', 'wm', 'camden', 'manual', 'simulation', 'culture', 'servicenow', 'york', 'good', 'into', 'multi', 'api', 'level', 'elearning', 'edge', 'educational', 'manufacturing', 'sector', 'ccna', 'db', 'eu', 'studio', 'bonus', 'technician', 'robotics', 'newcastle', 'architect', 'js', 'duty', 'engineer', 'analyst:', 'cissp', 'remote', 't', 'cisa', 'ranorex', 'migration', 'french', 'uipath', 'wintel', 'call', 'go', 'tdd', 'speaker', 'sponsored', 'electrical', 'engineers', 'ascot', 'opportunity', 'to', 'reporting', 'enhancing', 'kingston', 'motorsport', 'italian', 'vuejs', 'contracts', 'fix', 'camberley', 'oceana', 'poole', 'ecommerce', 'partner', 'view', 'php', 'hardware', 'jc', 'platforms', 'intelligence', 'leeds', 'back', 'isp', 'sw', 'jenkins', 'services', 'desktop', 'enfield', 'ec', 'dynatrace', 'chromeos', 'yorkshire', 'xwgc', 'halesowen', 'west', 'symfony', 'winning', 'instructor', 'ci', 'paye', 'production', 'information', 'bleeding', 'middleweight', 'fullstack', 'hibernate', 'home', 'pm', 'maintenance', 'juniper', 'netbackup', 'pen', 'screening', 'first', 'onboarding', 'cd', 'interactive', 'brinny', 'welcome', 'active', 'analysts', 'developers', 'monitoring', 'job', 'processing', 'asset', 'county', 'cryptocurrency', 'mvc', 'admin', 'artificial', 'pos', 'commerce', 'agent', 'pattern', 'clearanc', 'incident', 'architecture', 'website', 'vb', 'english', 'togaf', 'co', 'house', 'p', 'ivr', 'tester', 'thinker', 'applications', 'ios', 'oo', 'internet', 'wales', 'helpdesk', 'installations', 'analytics', 'agresso', 'fibre', 'ui', 'amsterdam', 'msp', 'have', 'laptops', 'packager', 'gcp', 'competative', 'owner', '—', 'accounting', 'cheshire', 'wallingford', 'uxbridge', 'administration', 'ordinator', 'software', 'iac', 'command', 'excel', 'certs', 'relationship', 'integration', 'peterborough', 'day', 'telephony', 'pl', 'sportsbook', 'cro', 'chinese', 'hybris', 'stakeholder', 'gain', 'pricing', 'swift', 'malware', 'packaging', 'transformation', 'infrastructure', 'kentico', 'deputy', 'mathematical', 'suppport', 'numerous', 'geospatial', 'product', 'regional', 'international', 'docker', 'brand', 'live', 'competitive', 'tier', 'cyber', 'frameworki', 'days', 'insurance', 'critical', 'scripting', 'chesterfield', 'fujitsu', 'hiring', 'south', 'process', 'british', 'sales', 'variety', 'role', 'aspnet', 'native', 'junior', 'smart', 'cirencester', 'x', 'newbury', 'petersfield', 'app', 'actuarial', 'advertising', 'ndc', 'server', 'pa', 'unity', 'msi', 'umbraco', 'equity', 'apps', 'embedded', ':', 'role:', 'clearance', 'search', 'for', 'pi', 'chef', 'ote', 'ireland', 'skills', 'world', 'payroll', 'months', 'principal', 'open', 'e', 'telco', 'time', 'cybersecurity', 'wpf', 'plus', 'supplier', 'brighton', 'ops', 'vcp', 'surrey', 'citizen', 'presales', 'dba', 'postgresql', 'ftse', 'microstrategy', 'es', 'configuration', 'statistician', 'germany', 'c#net', 'newport', 'recruitment', 'adobe', 'hadoop', 'kit', 'nodejs', 'technologies', 'payments', 'dwh', 'researcher', 'german', 'financial', 'uk', 'temp', 'train', 'algorithm', 'green', 'and', 'based', 'basel', 'experienced', 'on', 'network', 'cleared', 'development', '+', 'informatica', 'leader', 'top', 'developer', 'devops', 'deployment', 'aem', 'rapidly', 'fresh', 'vue', 'filemaker', 'options', 'response', 'ch', 'controller', 'estate', 'crewe', 'perm', 'cayman', 'unit', 'cto', 'flexible', 'ms', 'source', 'hedge', 'from', 'cisco', 'netherlands', 'java', 'witney', 'penetration', 'nottingham', 'roles', 'physics', 'tech', 'wifi', 'frontend', 'strategist', 'april', 'dublin', 'agile', 'redhat', 'claims', 'functional', 'solihull', 'private', 'line', 'k+', 'scala', 'vbnet', 'content', 'project', 'scotland', 'portals', 'networking', 'one', 'package', 'modelling', 'oop', 'scarborough', 'working', 'magento', 'in', 'ax', 'officer', 'latency', 'spanish', 'linux', 'hpc', 'mis', 'field', 'bristol', 'consultant', 'qa', 'analyst:multi', 'multiple', 'fleet', 'airline', 'print', 'etl', 'privileged', 'relocation', 'sports', 'it', 'didcot', 'innovative', 'genesys', 'office', 'graduate', 'company', 'with', 'html', 'firm', 'buisness', 'gold', 'full', 'operator', 'kotlin', 'mongodb', 'within', 'levels', 'processor', 'birmingham', 'looking', 'wednesbury', 'asp', 'consulting', 'kafka', 'site', 'progression', 'regulatory', 'grads', 'video', 'ccnp', 'ruby', 'ucd', 'oxford', 'solutions', 'data', 'trainee', 'asda', 'alone', 'checkpoint', 'innovator', 'scheme', 'tv', 'node', 'lead', 'environments', 'systems', 'buildings', 'senior', 'innovation', 'oxfordshire', 'skillset', 'o', 'scorecard', 'transfer', 'clinicals', 'berkshire', 'weeks', 'commission', 'ksa', 'award', 'react', 'you', 'representative', 'riyadh', 'london', 'fraud', 'sharepoint', 'doe', 'neg', 'core', 'benefits', 'ux', 'telecoms', 'author', 'directory', 'assistant', 'norwich', 'vision', 'excellent', 'availability', 'uncapped', 'learning', 'is', 'webapi', 'middleware', 'the', 'npd', 'director', 'gaming', 'times', 'head', 'required', 'hire', 'vmware', 'governance', 'dv', 'marketing', 'practice', 'weight', 'desginer', 'stratford', 'testing', 'mdm', 'javascript', 'key', 'account', 'an', 'experience', 'hour', 'analyst', 'month', 'cambridge', 'strong', 'implementation', 'qlik', 'wimborne', 'expert', 'programmer', 'civils', 'needed', 'selenium', 'operative', 'tax', 'epm', 'nd', 'technology', 'front', 'blockchain', 'client', 'fixed', 'islands', 'winchester', 'positions', 'designer', 'git', 'wakefield', 'group', 'central', 'science', 'midlands', 'gateshead', 'customer', 'maths', 'ibm', 'preston', 'luxury', 'distributed', 'solution', 'belfast', 'powerbi', 'available', 'opportunities', 'week', 'gis', 'gui', 'free', 'saas', 'elegant', 'programme', 'year', 'stack', 'backend', 'brands', 'now', 'homeworking', 'mainframe', 'mission', 'mid', 'support', 'hands', 'big', 'inside', 'capital', 'euc', 'rollout', 'tooling', 'scrum', 'designing', 'mysql', 'centre', 'ba', 'fund', 'w', 'fpga', 'croydon', 'operations', 'docucare', 'ict', 'tools', 'stockbrokers', 'work', 'mongo', 'no', 'mobility', 'device', 'ethical', 'pd', 'image', 'years', 'user', 'capacity', 'quant', 'advisor', 'salesforce', 'learn', 'contract', 'managed', 'share', 'mfta', 'rails', 'procurement', 'chief', 'insight', 'planner', 'datatcentre', 'of', 'gloucestershire', 'css', 'specialist', 'professional', 'application:', 'web', 'ayr', 'career', 'gatwick', 'chat', 'enterprise', 'real', 'system', 'sdlc', 'chf', 'a', 'desktops', 'dev', 'service', 'otc', 'supervisor', 'mi', 'thriving', 'healthcare', 'mandarin', 'stand', 'must', 'leading', 'communications', 'crm', 'hw', 'paris', 'streaming', 'automation', 'hosting', 'net', 'be', 'application', 'doncaster', 'interface', 'analysis', 'typescript', 'korean', 'computer', 'abingdon', 'leads', 'modeller', 'greenfield', 'speaking', 'aop', 'manc', 'laravel', 'pre', 'transaction', 'public', 'stirling', 'alternating', 'flex', 'organisation', 'start', 'fortinet', 'master', 'sql', 'pdp', 'android', 'wembley', 'quality', 'unified', 'ems', 'expanding', 'sme', 'cism', 'scotstoun', 'identity', 'avaya', 'per', 'd', 'finance', 'dutch', 'database', 'salford', 'basic', 'toots', 'cable', 'assurance', 'windows', 'boot', 'ad', 'bi', 'jmeter', 'training', 'immediate', 'servers', 'rest', 'broadband', 'energy', 'soc', 'oracle', 'interim', 'bournemouth', 'update', 'up', 'cypress', 'accountancy', 'networks', 'initially', 'l', 'visa', 'era', 'grad', 'part', 'officers', 'contact', 'supportive', 'administrator', 'microservices', 'scientist', 'brno', 'strategy', 'sussex', 'economy', 'c++', 'warehousing', 'desk', 'ip', 'sence', 'delivery', 'eh', 'business', 'commercial', 'glasgow', 'invest', 'paid', 'electronic', 'remotely', 'milton', 'notts', 'installation', 'angular', 'or', 'engineering', 'great', 'end', 'solothurn', 'improvement', 'compliance', 'performance', 'kent', 'ferndown', 'plymouth', 'operational', 'artist', 'biztalk', 'warehouse', 'malta', 'shift', 'banking', 'trading', 'throughout', 'ftc', \"'s\", \"dba's\", 'k', 'credit', 'dynamics', 'poland', 'maidenhead', 'floorwalker', 'ir', 'multilingual', 'analytical', 'spring', 'media', 'analystsales', 'kubernetes', 'game', 'comp', 'self', 'edinburgh', 'properties', 'microsoft', 'risk', 'fintech', 'agency', 'north', 'contractor', 'east', 'financialforce', 'graduates', 'interest', 'security', 'permanent', 'fire', 'second', 'reactjs', 'manager', 'team', 'peep', 'insights', 'control', 'drupal', 'wordpress', 'rates', 'leadership', 'certified', 'netsuite', 'certification', 'serve', 'kpi', 'emea', 'release', 'wireless', 'electronics', 'v', 'change', 'consultancy', 'lamp', 'keynes', 'leicestershire', 'single', 'rpa', 'firmware', 'sap', 'ebs', 'executive', 'machine', 'wearables', 'rd', 'c', 'salary', 'reigate', 'arcgis', 'stats', 'low', 'growing', 'southampton', 'cloud', 'puppet', 'iot', 'xml', 'meter', 'projects', 'intern', 'polyglot', 'mobile', 'raspberry', 'python', 'writer', 'multinational', 'hr', 'payment', 'manchester', 'st'}\n",
      "911\n"
     ]
    }
   ],
   "source": [
    "print(it_vocab)\n",
    "print(len(it_vocab))"
   ]
  },
  {
   "cell_type": "code",
   "execution_count": 13,
   "metadata": {},
   "outputs": [],
   "source": [
    "# this cell for marketing vocab \n",
    "marketing_vocab = set()\n",
    "\n",
    "for line in marketing_df:\n",
    "    text_in_line = line.split() # split the words by white spaces\n",
    "    \n",
    "    for word in text_in_line:\n",
    "        marketing_vocab.add(word)"
   ]
  },
  {
   "cell_type": "code",
   "execution_count": 14,
   "metadata": {},
   "outputs": [
    {
     "name": "stdout",
     "output_type": "stream",
     "text": [
      "{'law', 'pubic', 'global', 'editor', 'restaurants', 'design', 'consultants', 'restructuring', 'region', 'retail', 'associate', 'alexandria', 'manufacturer', 'ceo', 'term', 'help', 'management', 'graphic', 'bramfeld', 'relations', 'medical', 'eco', 'residential', 'person', 'agents', 'kassel', 'chain', 'seo', 'scale', 'digital', 'governmental', 'adwords', 'deep', 'buying', 'accounts', 'ophthalmology', 'jnr', 'all', 'coordinator', 'implementer', 'technical', 'communcations', 'market', 'internship', 'travel', 'bd', 'blog', 'hamburg', 'planning', 'city', 'fitness', 'amazon', 'camden', 'care', 'manual', 'fmcg', 'protection', 'kantar', 'sunninghill', 'into', 'level', 'technologist', 'commodities', 'sector', 'onsite', 'producer', 'eu', 'studio', 'teilzeit', 'bonus', 'paddy', 'telesales', 'scientific', 'this', 'irmonerstraße', 'engineer', 'coordnator', 'ppc', 'portfolio', 't', 'french', 'call', 'franchise', 'speaker', 'electrical', 'opportunity', 'to', 'activities', 'direct', 'telemarketing', 'entry', 'ecommerce', 'partner', 'php', 'reiseverkäufer', 'intelligence', 'vip', 'european', 'exhibitions', 'large', 'card', 'hamilton', 'department', 'back', 'services', 'im', 'integrations', 'affairs', 'europe', 'launch', 'yorkshire', 'sr', 'spirits', 'immigration', 'vollzeit', 'products', 'buyer', 'production', 'information', 'sponsorship', 'western', 'beauty', 'vp', 'center', 'home', 'copywriter', 'conversion', 'evaluation', 'hours', 'wanted', 'job', 'processing', 'agricultural', 'finalizer', 'admin', 'artificial', 'commerce', 'agent', 'research', 'english', 'fashion', 'co', 'northern', 'politics', 'p', 'bid', 'fundraising', 'channels', 'ios', 'external', 'adviser', \"'e'\", 'premium', 'analytics', 'audience', 'ui', 'affiliate', 'experiential', 'apac', 'accounting', 'owner', 'motion', 'membership', 'engagement', 'influencer', 'administration', 'freight', 'partnership', 'ordinator', 'software', 'organiser', 'cover', 'machining', 'relationship', 'bc', 'cro', 'chinese', 'receptionist', 'pricing', 'packaging', 'suhl', 'deputy', 'charge', 'startup', 'position', 'product', 'international', 'regional', 'live', 'brand', 'relocate', 'branding', 'days', 'insurance', 'marcomms', 'outreach', 'get', 'fluent', 'sales', 'pharmaceutical', 'football', 'role', 'background', 'jewish', 'junior', 'marketer', 'advertising', 'strategic', 'apps', 'bat', ':', 'search', 'languages', 'for', 'islington', 'requirement', 'payroll', 'accountant', 'months', 'purchasing', 'e', 'time', 'independent', 'secondment', 'clients', 'reisebüro', 'hospitality', 'outsourcing', 'known', 'removal', 'soccer', 'merchandiser', 'writing', 'recruitment', 'romsey', 'trade', 'club', 'm', 'payments', 'researcher', 'hall', 'german', 'financial', 'uk', 'coordinater', 'facebook', 'exectuive', 'green', 'and', 'based', 'creativity', 'on', 'development', 'biddable', 'specification', '+', 'kidlington', 'leader', 'top', 'developer', 'options', 'promotions', 'estate', 'wimbledon', 'assistant:', 'investment', '\"agency', 'online', 'fulfilment', 'flexible', 'advisory', 'hubspot', 'from', 'animator', 'ads', 'photography', 'tech', 'hacking', 'urgent', 'strategist', 'section', 'arabic', 'gradute', 'proposition', 'agile', 'viernheim', 'indoor', 'proofreader', 'content', 'project', 'scotland', 'reading', 'modelling', 'guru', 'working', 'in', 'officer', 'christchurch', 'creative', 'gift', 'sustainable', 'field', 'consultant', 'conversation', 'health', 'google', 'sports', 'it', 'mortgage', 'f', 'innovative', 'office', 'graduate', 'with', 'company', 'friendly', 'html', 'outdoor', 'generalist', 'firm', 'full', 'operator', 'boarding', 'birmingham', 'consulting', 'igaming', 'shifts', 'progression', 'storyteller', 'comms', 'acute', 'oxford', 'collector', 'acquisition', 'data', 'trainee', 'solutions', 'event', 'scheme', 'lead', 'statistical', 'senior', 'innovation', 'oxfordshire', 'communication', 'secretary', 'representative', 'merchandising', 'apprentice', 'precision', 'london', 'doe', 'ux', 'side\"', 'community', 'assistant', 'medico', 'martech', 'learning', 'npd', 'director', 'life', 'gaming', 'head', 'required', 'marketing', 'chelmsford', 'key', 'porta', 'account', 'executives', 'experience', 'hour', 'analyst', 'offenburg', 'month', 'moderator', 'schwäbisch', 'cambridge', 'property', 'lovell', 'expert', 'needed', 'division', '\"', 'technology', 'client', 'fixed', 'blogger', 'designer', 'editorial', 'publications', 'central', 'exciting', 'group', 'science', 'youtube', 'press', 'tunbridge', 'conference', 'customer', 'twickenham', 'luxury', 'exeuctive', 'i', 'area', 'mailchimp', 'week', 'proptech', 'saas', 'programme', 'rugeley', 'stack', 'brands', 'food', 'well', 'support', 'gartner', 'nr', 'tooling', 'augsburg', 'lifestyle', 'w', 'new', 'kol', 'operations', 'distributor', 'experimentation', 'entertainment', 'work', 'campaign', 'managers', 'no', 'pr', 'user', 'automotive', 'power', 'alcohol', 'quant', 'advisor', 'salesforce', 'contract', 'watch', 'share', 'chief', 'insight', 'flexi', 'planner', 'display', 'category', 'intermediary', 'awards', 'of', 'css', 'specialist', 'web', 'mortgages', 'dept', 'vice', 'student', 'system', 'real', 'a', 'alliances', 'helsinki', 'service', 'targeting', 'supervisor', 'ebay', 'healthcare', 'thriving', 'mandarin', 'leading', 'communications', 'crm', 'multichannel', 'campaigns', 'loyalty', 'automation', 'general', 'rate', 'segment', 'edia', 'healthtech', 'korean', 'speaking', 'laravel', 'retailer', 'public', 'optimisation', 'organisation', 'bb', 'catering', 'start', 'programmatic', 'execution', 'jewellery', 'quality', 'handler', 'restaurant', 'proposals', 'gillingham', 'vlogger', 'creator', 'copy', 'personal', 'finland', 'per', 'd', 'finance', 'dutch', 'generation', 'publishing', 'database', 'assurance', 'artwork', 'marketo', 'ad', 'trader', 'training', 'events', 'growth', 'immediate', 'producers', 'channel', 'logistics', 'energy', 'interim', 'bournemouth', 'up', 'exhibition', 'amp', 'only', 'coburg', 'insurtech', 'grad', 'country', 'part', 'administrator', 'partnerships', 'scientist', 'treasury', 'strategy', 'internal', 'desk', 'delivery', 'business', 'journalist', 'commercial', 'paid', 'fieldwork', 'or', 'conferences', 'great', 'smb', 'end', 'performance', 'münchen', 'kent', 'exec', 'corporate', 'retention', 'therapies', 'administrative', 'ftc', 'trading', 'exhibit', 'teamleader', 'k', 'wells', 'media', 'demand', 'basingstoke', 'comp', 'amazing', 'maternity', 'risk', 'printer', 'fintech', 'agency', 'darmstadt', 'east', 'sem', 'photographer', 'second', 'manager', 'established', 'team', 'insights', 'referencing', 'email', 'wordpress', 'wedding', 'social', 'art', 'emea', 'leatherhead', 'integrated', 'executive', 'machine', 'telemarketer', 'silverstripe', 'salary', 'westfalica', 'gn', 'cambridgeshire', 'festival', 'projects', 'intern', 'mobile', 'president', 'writer', 'hr', 'manchester', 'casino', 'watches'}\n",
      "616\n"
     ]
    }
   ],
   "source": [
    "print(marketing_vocab)\n",
    "print(len(marketing_vocab))"
   ]
  },
  {
   "cell_type": "code",
   "execution_count": 15,
   "metadata": {},
   "outputs": [],
   "source": [
    "# this cell for education vocab \n",
    "education_vocab = set()\n",
    "\n",
    "for line in education_df:\n",
    "    text_in_line = line.split() # split the words by white spaces\n",
    "    \n",
    "    for word in text_in_line:\n",
    "        education_vocab.add(word)"
   ]
  },
  {
   "cell_type": "code",
   "execution_count": 16,
   "metadata": {},
   "outputs": [
    {
     "name": "stdout",
     "output_type": "stream",
     "text": [
      "{'primaire', 'psychology', 'harlow', 'daily', 'editor', 'global', 'design', 'additional', 'liverpool', 'childhood', 'station', 'mental', 'associate', 'nasr', 'alexandria', 'ceo', 'term', 'personnel', 'esl', 'help', 'coupar', 'educator', 'headteacher', 'graphic', 'australian', 'resistant', 'controls', 'wrexham', 'warwickshire', 'workers', 'residential', 'dubai', \"supervisor's\", 'autistic', 'digital', 'teachi', 'moga', 'kg', 'all', 'coordinator', 'invigilator', 'alperton', 'technical', 'gants', 'internship', 'bd', 'travel', 'we’re', 'rc', 'trainer', 'elementary', 'city', 'northfield', 'camden', 'care', 'manual', 'kharar', 'welding', 'staffordshire', 'ilford', 'education', 'materials', 'level', 'swinton', 'turkey', 'educational', 'facilitator', 'psychologist', 'hove', 'tweedbank', 'haslemere', 'cheltenham', 'baxenden', 'coach', 'technician', 'robotics', 'telesales', 'physical', 'hill', 'engineer', 'officer:', 'behavioral', 'mat', 'phase', 'tourism', 'french', 'call', 'lab', 'speaker', 'aspiring', 'schools', 'ebd', 'qts', 'efl', 'braehead', 'subjects:', 'bsl', 'to', 'young', 'activities', 'fly', 'school', 'camberley', 'quranic', 'at', 'php', 'less', 'midday', 'de', 'faversham', 'leeds', 'department', 'runcorn', 'covent', 'arabia', 'cfo', 'high', 'enfield', 'stem', 'bms', 'colchester', 'europe', 'affairs', 'dance', 'geography', 'west', 'programming', 'instructor', 'tlr', 'western', 'center', 'worker', 'home', 'maintenance', 'tefl', 'abu', 'wanted', 'autism', 'woking', 'active', 'post', 'job', 'anytime', 'classics', 'northampton', 'admin', 'agent', 'wonderful', 'eyfs', 'room', 'editing', 'research', 'richmond', 'assessments', 'ielts', 'lsa', 'english', 'fashion', 'enthusiastic', 'fabrication', 'redditch', 'co', 'house', 'classroom', 'academy', 'th', 'tester', 'music', 'wigan:', '–young', 'scienceteaching', 'cheshire', 'asap', 'saudi', 'uxbridge', 'administration', 'chemsitry', 'pe', 'berwyn', 'program', 'prep', 'cover', 'greenwich', 'chemistry', 'a’level', \"lady's\", 'heart', 'lambeth', 'day', 'kenilworth', 'long', 'apprenticeship:', 'chinese', 'receptionist', 'more', 'phone', 'tutors', 'become', 'vacancies', 'faith', 'deputy', 'tas', 'character', 'hammersmith', 'charge', 'coventry', 'speakers', 'international', 'product', 'reception', 'supervisors:', 'inner', 'orchestral', 'days', 'night', 'china', 'hiring', 'assistants', 'fluent', 'south', 'sales', 'native', 'role', 'therapy', 'junior', '–adults', 'pay', 'therapist', 's', 'westgate', 'haywards', 'ap', 'ellesmere', 'dhabi', 'equity', 'freelance', 'lane', ':', 'derbyshire', 'for', 'statistics', 'world', 'islington', 'fif', 'skills', 'newham', 'accountant', 'sandness', 'hook', 'summer', 'percussion', 'principal', 'ta', 'time', 'independent', 'sims', 'longterm', 'brighton', 'specaial', 'hospitality', 'counselor', 'foundation', 'october', 'hisar', 'after', 'greater', 'wandsworth', 'can', 'nqts', 'newport', 'kuwait', 'gt', 'recruitment', 'workington', 'club', 'egypt', 'best', 'm', 'hvac', 'tesol', 'german', 'train', 'uk', 'galashiels', 'sport', 'teacher', 'safeguarding', 'and', 'based', 'experienced', 'on', 'interviews', 'development', 'over', 'grade', '+', 'leader', 'special', 'developer', 'barking', 'ealing', 'controller', 'provided', 'stage', 'basildon', 'rugby', 'impact', 'unit', 'lawyer', 'online', 'flexible', 'computing', 'qatar', 'secondary', 'collaborative', 'myp', 'from', 'al', 'hillindon', 'mfl', 'polish:', 'nurse', 'humanities', 'pupil', 'physics', 'nottingham', 'roles', 'animator', 'helwan', 'tech', 'learners', 'cache', 'admission', 'arabic', 'april', 'play', 'angus', 'practitioner', 'coaches', 'indoor', 'private', 'supervisors', 'content', 'numeracy', 'project', 'redbridge', 'one', 'catholic', 'leavel', 'chigwell', 're', 'chester', 'as', 'lowestoft', 'september', 'in', ':teaching', 'officer', 'excellence', 'spanish', 'professeur', 'vietnam', 'warrington', 'field', 'uae', 'pmld', 'consultant', 'health', 'astronomy', 'sports', 'it', 'float', 'office', 'graduate', 'company', 'with', 'ks', 'referral', 'bank', 'esher', 'groupwork', 'tesl', 'calling', 'nutrition', 'posts', 'full', 'sept', 'base', 'operator', 'honours', 'caterham', 'quraan', 'ups', 'class', 'hod', 'looking', 'birmingham', 'translator', 'mba', 'barnet', 'teach', 'hertfordshire', 'trainee', 'lead', 'mentor', 'slough', 'vacancy', 'systems', 'senior', 'innovation', 'adults', 'hackney', 'dp', 'communication', 'careers', \"joseph's\", 'semh', 'ksa', 'you', 'practioner', 'secretary', 'asd', 'representative', 'borestone', 'london', 'sharepoint', 'criminology', 'ux', 'community', 'assistant', 'learning', 'pioneer', 'brent', 'bens', 'resources', 'director', 'the', 'axon', 'male', 'head', 'delay', 'girls', 'required', 'intervention', 'marketing', 'juniors', 'are', 'speech', 'kensington', 'key', 'university', 'success', 'account', 'southend', 'an', 'experience', 'cobham', 'kinross', 'higher', 'august', 'needed', 'homeroom', 'lewisham', 'fte', 'admissions', 'walton', 'square', 'building', 'technology', 'front', 'biology', 'india', 'leyland', 'positions', 'pkc', 'like', 'ib', 'academic', 'examination', 'woodwork', 'port', 'designer', 'arab', 'group', 'central', 'science', 'igcse', 'egy', 'mentors', 'teachers', 'tunbridge', 'teachers:', 'maths', 'customer', 'preston', 'available', 'opportunities', 'area', 'behaviour', 'week', 'ain', 'southwark', 'bursary', 'programme', 'year', 'stack', 'backend', 'duns', 'earn', 'faculty', 'food', 'subject', 'waltham', 'hlta', 'translation', 'support', 'senco', 'maadi', 'lecturer', 'centre', 'youth', 'croydon', 'new', 'operations', 'staff', 'easter', 'ict', 'work', 'no', 'fossoway', 'garden', 'years', 'invigilators', 'exams', 'supply', 'upper', 'advisor', 'needs', 'shams', 'chief', 'studies', 'thames', 'frodsham', 'of', 'legal', 'specialist', 'we', 'professional', 'newly', 'chandigarh', 'hearing', 'student', 'system', 'rochdale', 'a', \"anee's\", 'chichester', 'service', 'supervisor', 'dramatics', 'holidays', \"'outstanding'\", 'mps', 'qualified', 'kindergarten', 'tutor', 'clacton', 'camp', 'thurrock', 'would', 'dagenham', 'send', 'doncaster', 'essex', 'immediately', 'highbury', 'trainers', 'teaching', 'computer', 'history', 'hmp', 'operation', 'dt', 'deaf', 'branch', 'perth', 'pre', 'document', 'occupational', 'hyderabad', 'seeking', 'bb', 'start', 'complex', 'sticker', 'quality', 'primary', 'prudence', 'mathematics', 'creator', 'above', 'per', 'finance', 'aberfoyle', 'portsmouth', 'aberdeen', 'maternelle', 'scholar', 'borough', 'sessional', 'apprenticeship', 'exam', 'assurance', 'eal', 'our', 'training', 'unqualified', 'events', 'immediate', 'dudley', 'hillingdon', 'outstanding', 'behavioural', 'up', 'islamic', 'only', 'human', 'grad', 'superb', 'part', 'heath', 'country', 'français', 'administrator', 'accommodation', 'supervisor:', 'sussex', 'floor', 'preschool', 'langlee', 'desk', 'business', 'pupils', 'ece', 'achieving', 'non', 'or', 'sen', 'engineering', 'end', 'income', 'improvement', 'math', 'corporate', 'leeds:', 'ppa', 'subjects', 'administrative', 'russia', 'ftc', 'cognitive', 'k', 'wells', 'child', 'bolton', 'assistnat', 'media', 'outs', 'basingstoke', 'salam', 'goldalming', \"'good'\", 'mechanical', 'urgently', 'haringey', '[teaching]', 'craft', 'early', 'north', 'horsforth', 'east', 'temporary', 'graduates', 'moscow', 'permanent', 'photographer', 'foreign', \"nqt's\", 'dulwich', 'ofsted', 'second', 'bahrain', 'economics', 'manager', 'team', 'female', 'childcare', 'twin', 'hounslow', 'july', 'social', 'art', 'discipline', 'sacred', 'boys', 'woodwind', 'language', 'kids', 'forest', 'cairo', 'drama', 'executive', 'literacy', 'chelsea', 'felixstowe', 'drum', 'nursery', 'intern', 'course', 'librarian', 'join', 'python', 'nqt', 'bradford', 'writer', 'hr', 'sheffield', 'lower', 'manchester', 'jobs', 'st'}\n",
      "731\n"
     ]
    }
   ],
   "source": [
    "print(education_vocab)\n",
    "print(len(education_vocab))"
   ]
  },
  {
   "cell_type": "code",
   "execution_count": 17,
   "metadata": {},
   "outputs": [],
   "source": [
    "# this cell for accountancy vocab \n",
    "accountancy_vocab = set()\n",
    "\n",
    "for line in accountancy_df:\n",
    "    text_in_line = line.split() # split the words by white spaces\n",
    "    \n",
    "    for word in text_in_line:\n",
    "        accountancy_vocab.add(word)"
   ]
  },
  {
   "cell_type": "code",
   "execution_count": 18,
   "metadata": {},
   "outputs": [
    {
     "name": "stdout",
     "output_type": "stream",
     "text": [
      "{'office', 'graduate', 'supervisor', 'with', 'accounting', 'asap', 'global', 'qualified', 'restructuring', 'liverpool', 'administration', 'track', 'full', 'bulgarian', 'allocator', 'order', 'would', 'aca', 'suit', 'retail', 'term', 'adminstrator', 'management', 'speaking', 'keeper', 'pricing', 'data', 'trainee', 'controls', 'exp', 'scheme', 'platform', 'lead', 'deputy', 'senior', 'position', 'australia', 'start', 'international', 'night', 'chesterfield', 'invoicing', 'representative', 'portuguese', 'audit', 'south', 'get', 'personal', 'london', 'sales', 'accounts', 'role', 'finance', 'purchase', 'dutch', 'acca', 'junior', 'coordinator', 'expatriate', 'collection', 'four', 'x', 'pay', 's', 'internship', 'assistant', 'training', 'ledger', 'immediate', 'contractors', 'harrogate', 'city', 'head', 'royalties', 'required', 'for', 'interim', 'commisions', 'practice', 'payroll', 'up', 'accountancy', 'protection', 'sub', 'accountant', 'purchasing', 'into', 'summer', 'multi', 'level', 'part', 'study', 'dale', 'backoffice', 'time', 'administrator', 'account', 'rotation', 'treasury', 'analyst', 'month', 'property', 'internal', 'jobs', 'technician', 'starting', 'business', 'commercial', 'billing', 'biller', 'engineer', 'tax', 'aat', 'darley', 'sydney', 'anglictinou', 'or', 'recruitment', 'assitant', 'income', 'french', 'technology', 'payroller', 'cima', 'client', 'speaker', 'corporate', 'fixed', 'placement', 'iba', 'specialista', 'to', 'shift', 'ftc', 'german', 'undergraduate', 'italian', 'school', 'financial', 'temp', 'central', 'entry', 'k', 'credit', 'coordination', 'bolton', 'partner', 'media', 'and', 'transactional', 'stockport', 'european', 'opportunities', 'serbian', 'leader', 'fintech', 'north', 'receivable', 'services', 'reconciliation', 'romanian', 'temporary', 'controller', 'year', 'skilled', 'perm', 'permanent', 'investment', 'bookkeeper', 'book', 'online', 'wanting', 'support', 'west', 'manager', 'forecasting', 'fpa', 'big', 'team', 'investigation', 'source', 'control', 'clerk', 'centre', 'fund', 'operations', 'mayfair', 'touring', 'engage', 'asahi', 'insolvency', 'emea', 'ordinators', 'mobility', 'leaver', 'no', 'consultant:', 'consultancy', 'semi', 'language', 'recovery', 'advisor', 'contract', 'executive', 'processing', 'project', 'auditor', 'one', 'salary', 'package', 'admin', 'fast', 'ideal', 'a', 'treasurer', 'sole', 'funding', 'payable', 'specialist', 'in', 'vat', 'officer', 'spanish', 'warrington', 'student', 'co', 'beers', 'consultant', 'payment', 'cash', 'manchester', 'it', 'music'}\n",
      "233\n"
     ]
    }
   ],
   "source": [
    "print(accountancy_vocab)\n",
    "print(len(accountancy_vocab))"
   ]
  },
  {
   "cell_type": "markdown",
   "metadata": {},
   "source": [
    "## Try M.L Algorithms \n",
    "### Naive Bayes and SVM"
   ]
  },
  {
   "cell_type": "code",
   "execution_count": 19,
   "metadata": {},
   "outputs": [],
   "source": [
    "Encoder = LabelEncoder()\n",
    "Train_Y = Encoder.fit_transform(Train_y)\n",
    "Test_Y = Encoder.fit_transform(Test_y)"
   ]
  },
  {
   "cell_type": "markdown",
   "metadata": {},
   "source": [
    "#### 0-> Accountancy\n",
    "#### 1-> Education \n",
    "#### 2-> IT\n",
    "#### 3-> Marketing"
   ]
  },
  {
   "cell_type": "code",
   "execution_count": 20,
   "metadata": {},
   "outputs": [],
   "source": [
    "encoded_to_label =  {0:\"Accountancy\",1:\"Education\",2:\"IT\",3:\"Marketing\"}"
   ]
  },
  {
   "cell_type": "code",
   "execution_count": 21,
   "metadata": {},
   "outputs": [],
   "source": [
    "# create a count vectorizer object \n",
    "count_vect = CountVectorizer(analyzer='word', token_pattern=r'\\w{1,}',max_features=1820)\n",
    "count_vect.fit(Train_X) # here we only fit the model with the dictionary of the training data\n",
    "# since we do not to make the test(validate) data make any king on overfitting in the measure of \n",
    "# the performance.\n",
    "\n",
    "\n",
    "# transform the training and validation data using count vectorizer object\n",
    "x_train_count =  count_vect.transform(Train_X)\n",
    "x_test_count =   count_vect.transform(Test_X)"
   ]
  },
  {
   "cell_type": "markdown",
   "metadata": {},
   "source": [
    "### Naive Bayes"
   ]
  },
  {
   "cell_type": "code",
   "execution_count": 22,
   "metadata": {},
   "outputs": [
    {
     "name": "stdout",
     "output_type": "stream",
     "text": [
      "Naive Bayes Accuracy Score ->  92.20023282887078\n"
     ]
    }
   ],
   "source": [
    "# fit the training dataset on the NB classifier\n",
    "Naive = naive_bayes.MultinomialNB()\n",
    "Naive.fit(x_train_count,Train_Y)\n",
    "\n",
    "# predict the labels on validation dataset\n",
    "predictions_NB = Naive.predict(x_test_count)\n",
    "\n",
    "# Use accuracy_score function to get the accuracy\n",
    "print(\"Naive Bayes Accuracy Score -> \",accuracy_score(predictions_NB, Test_Y)*100)"
   ]
  },
  {
   "cell_type": "markdown",
   "metadata": {},
   "source": [
    "### SVM"
   ]
  },
  {
   "cell_type": "code",
   "execution_count": 23,
   "metadata": {},
   "outputs": [
    {
     "name": "stdout",
     "output_type": "stream",
     "text": [
      "SVM Accuracy Score ->  93.0151338766007\n"
     ]
    }
   ],
   "source": [
    "# Classifier - Algorithm - SVM\n",
    "# fit the training dataset on the classifier\n",
    "SVM = svm.SVC(C=1.0, kernel='linear', degree=3, gamma='auto')\n",
    "SVM.fit(x_train_count,Train_Y)\n",
    "\n",
    "# predict the labels on validation dataset\n",
    "predictions_SVM = SVM.predict(x_test_count)\n",
    "\n",
    "# Use accuracy_score function to get the accuracy\n",
    "print(\"SVM Accuracy Score -> \",accuracy_score(predictions_SVM, Test_Y)*100)"
   ]
  },
  {
   "cell_type": "markdown",
   "metadata": {},
   "source": [
    "### >> SVM gives us slightly better accuracy, but we will use Naive model since the difference is very small and Naive has the advantage of using the Priors Probability which are very important for example if the given example have no words in our vocab the model will classify based on priois only."
   ]
  },
  {
   "cell_type": "markdown",
   "metadata": {},
   "source": [
    "## Final Model (Naive)"
   ]
  },
  {
   "cell_type": "code",
   "execution_count": 24,
   "metadata": {},
   "outputs": [],
   "source": [
    "# create a count vectorizer object \n",
    "count_vect = CountVectorizer(analyzer='word', token_pattern=r'\\w{1,}',max_features=1820)\n",
    "count_vect.fit(_data['job title']) #now our dictionary is all the data \n",
    "\n",
    "# transform the training and validation data using count vectorizer object\n",
    "X =  count_vect.transform(_data['job title'])\n",
    "\n",
    "\n",
    "Encoder = LabelEncoder()\n",
    "Y = Encoder.fit_transform(_data['industry'])\n"
   ]
  },
  {
   "cell_type": "markdown",
   "metadata": {},
   "source": [
    "### Calculate Prior probabilities"
   ]
  },
  {
   "cell_type": "code",
   "execution_count": 25,
   "metadata": {},
   "outputs": [
    {
     "name": "stdout",
     "output_type": "stream",
     "text": [
      "4746\n",
      "2031\n",
      "1435\n",
      "374\n"
     ]
    }
   ],
   "source": [
    "it = _data['job title'][_data['industry'] == \"IT\"]\n",
    "marketing = _data['job title'][_data['industry'] == \"Marketing\"]\n",
    "education = _data['job title'][_data['industry']  == \"Education\"]\n",
    "accountancy = _data['job title'][_data['industry'] == \"Accountancy\"]\n",
    "\n",
    "\n",
    "n_it = len(it)\n",
    "n_marketing = len(marketing)\n",
    "n_education = len(education)\n",
    "n_accountancy = len(accountancy)\n",
    "\n",
    "n_totall = n_it + n_marketing + n_education + n_accountancy\n",
    "\n",
    "print(n_it)\n",
    "print(n_marketing)\n",
    "print(n_education)\n",
    "print(n_accountancy)"
   ]
  },
  {
   "cell_type": "code",
   "execution_count": 26,
   "metadata": {},
   "outputs": [],
   "source": [
    "p_it = n_it / n_totall\n",
    "p_marketing = n_marketing / n_totall\n",
    "p_education = n_education / n_totall\n",
    "p_accountancy = n_accountancy / n_totall\n",
    "\n",
    "#### 0-> Accountancy\n",
    "#### 1-> Education \n",
    "#### 2-> IT\n",
    "#### 3-> Marketing\n",
    "\n",
    "priors = [p_accountancy , p_education , p_it , p_marketing]"
   ]
  },
  {
   "cell_type": "code",
   "execution_count": 27,
   "metadata": {},
   "outputs": [
    {
     "data": {
      "text/plain": [
       "MultinomialNB(alpha=1.0,\n",
       "       class_prior=[0.043559282552993246, 0.1671325413463778, 0.5527603074772887, 0.23654786862334032],\n",
       "       fit_prior=True)"
      ]
     },
     "execution_count": 27,
     "metadata": {},
     "output_type": "execute_result"
    }
   ],
   "source": [
    "# Classifier - Algorithm - SVM\n",
    "# fit the training dataset on the classifier\n",
    "#SVM = svm.SVC(C=1.0, kernel='linear', degree=3, gamma='auto')\n",
    "#SVM.fit(x_train_count,Train_Y)\n",
    "\n",
    "\n",
    "# fit all the training dataset on the NB classifier\n",
    "Naive = naive_bayes.MultinomialNB(class_prior=priors)\n",
    "Naive.fit(X,Y)\n"
   ]
  },
  {
   "cell_type": "markdown",
   "metadata": {},
   "source": [
    "## Predict on sample examples"
   ]
  },
  {
   "cell_type": "code",
   "execution_count": 28,
   "metadata": {},
   "outputs": [
    {
     "name": "stdout",
     "output_type": "stream",
     "text": [
      "Education\n"
     ]
    }
   ],
   "source": [
    "# Example 1\n",
    "test_string = [\"teaching assistant\"]\n",
    "Test_X_counts = count_vect.transform(test_string)\n",
    "test_sample = Naive.predict(Test_X_counts)\n",
    "job_industry = encoded_to_label[test_sample[0]]\n",
    "\n",
    "print(job_industry)"
   ]
  },
  {
   "cell_type": "code",
   "execution_count": 29,
   "metadata": {},
   "outputs": [
    {
     "name": "stdout",
     "output_type": "stream",
     "text": [
      "IT\n"
     ]
    }
   ],
   "source": [
    "# Example 2 testing random input, should give us the class with higher probability\n",
    "test_string = [\"xxxzzzz\"]\n",
    "Test_X_counts = count_vect.transform(test_string)\n",
    "test_sample = Naive.predict(Test_X_counts)\n",
    "job_industry = encoded_to_label[test_sample[0]]\n",
    "\n",
    "print(job_industry)"
   ]
  },
  {
   "cell_type": "markdown",
   "metadata": {},
   "source": [
    "## And Yes! IT is highest prior class, now we have a good model to go"
   ]
  },
  {
   "cell_type": "markdown",
   "metadata": {},
   "source": [
    "## Using Flask to create RESTFul API"
   ]
  },
  {
   "cell_type": "code",
   "execution_count": 48,
   "metadata": {},
   "outputs": [
    {
     "name": "stdout",
     "output_type": "stream",
     "text": [
      " * Serving Flask app \"__main__\" (lazy loading)\n",
      " * Environment: production\n",
      "   WARNING: Do not use the development server in a production environment.\n",
      "   Use a production WSGI server instead.\n",
      " * Debug mode: off\n"
     ]
    },
    {
     "name": "stderr",
     "output_type": "stream",
     "text": [
      " * Running on http://127.0.0.1:8080/ (Press CTRL+C to quit)\n",
      "127.0.0.1 - - [22/Jun/2019 22:21:20] \"GET /?job_title=teacher%20assistant HTTP/1.1\" 200 -\n"
     ]
    },
    {
     "name": "stdout",
     "output_type": "stream",
     "text": [
      "Job title:teacher assistant\n",
      "Job industry:Education\n"
     ]
    }
   ],
   "source": [
    "app = Flask(__name__) #define app\n",
    "CORS(app)\n",
    "\n",
    "@app.route('/',methods=['GET'])\n",
    "\n",
    "def get_job_title():\n",
    "    \n",
    "    #Get the text and pre-process it\n",
    "    #job_title_text = request.json['job_title']\n",
    "    \n",
    "    job_title_text = request.args.get('job_title')\n",
    "    \n",
    "    job_title_text = pre_processing(job_title_text)\n",
    "    \n",
    "    #predict using the SVM model\n",
    "    test_string   = [job_title_text]\n",
    "    Test_X_sample = count_vect.transform(test_string)\n",
    "    test_sample   = Naive.predict(Test_X_sample)\n",
    "\n",
    "    #mapping and sending the label\n",
    "    job_industry = encoded_to_label[test_sample[0]]\n",
    "    \n",
    "    \n",
    "    print('Job title:' + job_title_text)\n",
    "    print('Job industry:' + job_industry)\n",
    "    \n",
    "    return jsonify({\"job_industry\": job_industry})\n",
    "    \n",
    "#run the server \n",
    "if __name__ == '__main__':\n",
    "    app.run(port = 8080)\n"
   ]
  },
  {
   "cell_type": "code",
   "execution_count": null,
   "metadata": {},
   "outputs": [],
   "source": []
  }
 ],
 "metadata": {
  "kernelspec": {
   "display_name": "Python 3",
   "language": "python",
   "name": "python3"
  },
  "language_info": {
   "codemirror_mode": {
    "name": "ipython",
    "version": 3
   },
   "file_extension": ".py",
   "mimetype": "text/x-python",
   "name": "python",
   "nbconvert_exporter": "python",
   "pygments_lexer": "ipython3",
   "version": "3.7.3"
  }
 },
 "nbformat": 4,
 "nbformat_minor": 2
}
